{
    "cells": [
        {
            "cell_type": "markdown",
            "metadata": {
                "collapsed": true
            },
            "source": "# Battle-of-Neighbourhoods-Part-1"
        },
        {
            "cell_type": "markdown",
            "metadata": {},
            "source": "### 1) INTRODUCTION / BUSINESS PROBLEM:"
        },
        {
            "cell_type": "markdown",
            "metadata": {},
            "source": "The idea of this study is to help shopkeepers of mall and brands to decide there product values as per customer's gender, age and income range. This can help them in the way that they should target specific group of customers and provide them wide range of products and services.This problem statement aims on grouping customers on the basis of their income and/or spending score so that particular group of customers can be recommended products based on the parameters which divide them into different groups."
        },
        {
            "cell_type": "markdown",
            "metadata": {},
            "source": "### 2) SOURCE DATA:"
        },
        {
            "cell_type": "markdown",
            "metadata": {},
            "source": "To provide the stakeholders the necessary information I have used .csv file from https://www.kaggle.com/vjchoudhary7/customer-segmentation-tutorial-in-python and used https://labs.cognitiveclass.ai/tools/jupyterlab/ to execute and show my work."
        },
        {
            "cell_type": "markdown",
            "metadata": {},
            "source": "### 3) METHODOLOGY:"
        },
        {
            "cell_type": "markdown",
            "metadata": {},
            "source": "I start by importing the libraries such as numpy and pandas which are used to form the particular dataframe. Then for this report I used a few bar graphs that could help the shopkeepers and brands to decide the best customer to target there products in order to gain maximum profit in minimum investment. In order to do that I've used the Kaggle platform https://www.kaggle.com/vjchoudhary7/customer-segmentation-tutorial-in-python to derive data along with Decision Tree Classifier to predict the results with accuracy. Various plots helps me to figure out the results in a more illustrative way."
        },
        {
            "cell_type": "markdown",
            "metadata": {},
            "source": "### 4) RESULTS:"
        },
        {
            "cell_type": "markdown",
            "metadata": {},
            "source": "We could predict the sales using Decision Tree Classifier. By visualizing the data using graphs, we could group majority of the customer by gender, spending score and income range. Also During the analysis of dataframe it was found that female buyers were more than the male buyers so the sellers can accordingly advertise their product by keeping in mind that the gender ratio is somehow 7:3 and thus they can sell their products more efficiently by recommending the right thing to the right person. Income also plays a crucial role in clustering or grouping of customers .People with high income spend more money in the malls for purchasing products and they purchase more costlier products than the cheaper products. Age is another important parameter because different age groups tend to buy different products, hence they can be grouped accordingly. All these factors together gives the clustering of customers according to different parameters."
        },
        {
            "cell_type": "markdown",
            "metadata": {},
            "source": "### 5) DISCUSSION:"
        },
        {
            "cell_type": "markdown",
            "metadata": {},
            "source": "During analysing of the data and the problem statement, I initially was planning to use API and execute k- means clustering to find clusters of customer groups, so that it would give a clear idea of groups of customers. In future I would try to work upon the recommending products according to clusters."
        },
        {
            "cell_type": "markdown",
            "metadata": {},
            "source": "### 6) CONCLUSION:"
        },
        {
            "cell_type": "markdown",
            "metadata": {},
            "source": "This report is particularly aimed to help shopkeepers of malls and brands to decide there product recommendations as per customer's gender,spending score and income range. Because all this variables have different impact on the results. Young people tend to purchase newest items more frequently as the products are launched. Females are known for shopping extensively than their male counterparts. According to a survey 7 out of 10 items bought are by womans. This can be the impact of gender parameter on the grouping of data. However, it would be necessary to analyse all variables such as age, gender and income and also spending ratio. Thus, further exploration is required.This is not the stop. This problem needs to be modified more in order to explore different parameters of clustering customers."
        },
        {
            "cell_type": "code",
            "execution_count": null,
            "metadata": {},
            "outputs": [],
            "source": ""
        }
    ],
    "metadata": {
        "kernelspec": {
            "display_name": "Python 3.6",
            "language": "python",
            "name": "python3"
        },
        "language_info": {
            "codemirror_mode": {
                "name": "ipython",
                "version": 3
            },
            "file_extension": ".py",
            "mimetype": "text/x-python",
            "name": "python",
            "nbconvert_exporter": "python",
            "pygments_lexer": "ipython3",
            "version": "3.6.9"
        }
    },
    "nbformat": 4,
    "nbformat_minor": 1
}